{
 "cells": [
  {
   "cell_type": "code",
   "execution_count": null,
   "metadata": {},
   "outputs": [],
   "source": [
    "#Required library import\n",
    "import cv2\n",
    "import torch\n",
    "from ssd_updated import build_ssd #Updated SSD file with layers and detection file\n",
    "import imageio\n",
    "from torch.autograd import Variable\n",
    "from data import BaseTransform, VOC_CLASSES as labelmap"
   ]
  },
  {
   "cell_type": "code",
   "execution_count": null,
   "metadata": {},
   "outputs": [],
   "source": [
    "#function to detect the required objects based on the pre trained model in ssd300_mAP_77.43_v2.pth\n",
    "def detect(frame, net, transform):\n",
    "    #4 total transformations to the frame.\n",
    "    height, width = frame.shape[:2] #here the frame object contains [h, w, c] we will exclude color as its not required for this var\n",
    "    frame_t = transform(frame)[0] #the transform object will give us the array of the image of which we will only need the 1st index.\n",
    "    x = torch.from_numpy(frame_t).permute(2,0,1) #Convert Numpy Array to Torch Tensor. Permute used to change color channels from RBG(0,1,2) to GRB(2,0,1) as network was trained on that sequence.\n",
    "    x = Variable(x.unsqueeze(0)) #Expand the Dimensions to include the batch size\n",
    "    y = net(x) #we will send the tensor x to the net\n",
    "    detections = y.data #we will take the data generated from the tensor after applying the net.\n",
    "    scale = torch.Tensor([width, height, width, height]) #we will create the scale object with the dimensions of the data.\n",
    "    #detections = [batch, number of classes, number of occurence, (score, x0, Y0, x1, y1)]]\n",
    "    for i in range(detections.size(1)):\n",
    "        j=0\n",
    "        while detections[0,i,j,0] >= 0.6:\n",
    "            pt = (detections[0,i,j,1:] * scale).numpy() #this will be the point of the detection with scaled data to include x0...y1\n",
    "            cv2.rectangle(frame, (int(pt[0]), int(pt[1])), (int(pt[2]), int(pt[3])), (255, 0, 0), 2)\n",
    "            cv2.putText(frame, labelmap[i - 1], (int(pt[0]), int(pt[1])), cv2.FONT_HERSHEY_SIMPLEX, 2, (0, 255, 0), 2, cv2.LINE_AA)\n",
    "            j += 1\n",
    "    return frame"
   ]
  },
  {
   "cell_type": "code",
   "execution_count": null,
   "metadata": {},
   "outputs": [],
   "source": [
    "#now to create the network\n",
    "net = build_ssd('test')# We create an object that is our neural network ssd.\n",
    "net.load_state_dict(torch.load('ssd300_mAP_77.43_v2.pth', map_location= lambda storage, loc: storage))"
   ]
  },
  {
   "cell_type": "code",
   "execution_count": null,
   "metadata": {},
   "outputs": [],
   "source": [
    "# We create an object of the BaseTransform class, a class that will do the required transformations so that the image can be the input of the neural network.\n",
    "transform = BaseTransform(net.size, (104/256.0, 117/256.0, 123/256.0)) "
   ]
  },
  {
   "cell_type": "code",
   "execution_count": null,
   "metadata": {},
   "outputs": [],
   "source": [
    "# Object detection on the video\n",
    "reader = imageio.get_reader('test.mp4') #we open the video\n",
    "fps = reader.get_meta_data()['fps'] # We get the fps frequence (frames per second).\n",
    "writer = imageio.get_writer('output.mp4', fps = fps) # We create an output video with this same fps frequence."
   ]
  },
  {
   "cell_type": "code",
   "execution_count": null,
   "metadata": {},
   "outputs": [],
   "source": [
    "for i, frame in enumerate(reader):\n",
    "    frame = detect(frame, net.eval(), transform)\n",
    "    writer.append_data(frame) # We add the next frame in the output video.\n",
    "    print(i)  #We print the number of the processed frame.\n",
    "    \n",
    "writer.close()# We close the process that handles the creation of the output video."
   ]
  },
  {
   "cell_type": "code",
   "execution_count": null,
   "metadata": {},
   "outputs": [],
   "source": []
  }
 ],
 "metadata": {
  "kernelspec": {
   "display_name": "Python 3.7",
   "language": "python",
   "name": "python3"
  },
  "language_info": {
   "codemirror_mode": {
    "name": "ipython",
    "version": 3
   },
   "file_extension": ".py",
   "mimetype": "text/x-python",
   "name": "python",
   "nbconvert_exporter": "python",
   "pygments_lexer": "ipython3",
   "version": "3.7.6"
  }
 },
 "nbformat": 4,
 "nbformat_minor": 4
}
